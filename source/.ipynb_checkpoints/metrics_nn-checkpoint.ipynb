{
    "cells": [
        {
            "cell_type": "code",
            "execution_count": 2,
            "id": "55aef22c-8c26-4c1a-81e9-c7f5e621745d",
            "metadata": {},
            "outputs": [
                {
                    "name": "stderr",
                    "output_type": "stream",
                    "text": [
                        "/tmp/ipykernel_55986/1771970707.py:122: FutureWarning: The input object of type 'Tensor' is an array-like implementing one of the corresponding protocols (`__array__`, `__array_interface__` or `__array_struct__`); but not a sequence (or 0-D). In the future, this object will be coerced as if it was first converted using `np.array(obj)`. To retain the old behaviour, you have to either modify the type 'Tensor', or assign to an empty array created with `np.empty(correct_shape, dtype=object)`.\n",
                        "  get_all_metrics(np.asarray(y_true_list).astype('int'), np.asarray(y_pred_list), np.asarray(y_score_list))\n",
                        "/tmp/ipykernel_55986/1771970707.py:122: VisibleDeprecationWarning: Creating an ndarray from ragged nested sequences (which is a list-or-tuple of lists-or-tuples-or ndarrays with different lengths or shapes) is deprecated. If you meant to do this, you must specify 'dtype=object' when creating the ndarray.\n",
                        "  get_all_metrics(np.asarray(y_true_list).astype('int'), np.asarray(y_pred_list), np.asarray(y_score_list))\n"
                    ]
                },
                {
                    "name": "stdout",
                    "output_type": "stream",
                    "text": [
                        "precision of failed:  0.9266288679607918\n",
                        "precision of healthy:  0.6917660273025747\n",
                        "tpr:  0.5747280584115632\n",
                        "fpr:  0.04551008851667511\n",
                        "auc:  0.9006701913957871\n",
                        "f1-score:  0.7094377103757794\n"
                    ]
                },
                {
                    "name": "stderr",
                    "output_type": "stream",
                    "text": [
                        "/tmp/ipykernel_55986/1771970707.py:122: FutureWarning: The input object of type 'Tensor' is an array-like implementing one of the corresponding protocols (`__array__`, `__array_interface__` or `__array_struct__`); but not a sequence (or 0-D). In the future, this object will be coerced as if it was first converted using `np.array(obj)`. To retain the old behaviour, you have to either modify the type 'Tensor', or assign to an empty array created with `np.empty(correct_shape, dtype=object)`.\n",
                        "  get_all_metrics(np.asarray(y_true_list).astype('int'), np.asarray(y_pred_list), np.asarray(y_score_list))\n",
                        "/tmp/ipykernel_55986/1771970707.py:122: VisibleDeprecationWarning: Creating an ndarray from ragged nested sequences (which is a list-or-tuple of lists-or-tuples-or ndarrays with different lengths or shapes) is deprecated. If you meant to do this, you must specify 'dtype=object' when creating the ndarray.\n",
                        "  get_all_metrics(np.asarray(y_true_list).astype('int'), np.asarray(y_pred_list), np.asarray(y_score_list))\n"
                    ]
                },
                {
                    "name": "stdout",
                    "output_type": "stream",
                    "text": [
                        "precision of failed:  0.9266288679607918\n",
                        "precision of healthy:  0.6917660273025747\n",
                        "tpr:  0.5747280584115632\n",
                        "fpr:  0.04551008851667511\n",
                        "auc:  0.9006701913957871\n",
                        "f1-score:  0.7094377103757794\n"
                    ]
                },
                {
                    "name": "stderr",
                    "output_type": "stream",
                    "text": [
                        "/tmp/ipykernel_55986/1771970707.py:122: FutureWarning: The input object of type 'Tensor' is an array-like implementing one of the corresponding protocols (`__array__`, `__array_interface__` or `__array_struct__`); but not a sequence (or 0-D). In the future, this object will be coerced as if it was first converted using `np.array(obj)`. To retain the old behaviour, you have to either modify the type 'Tensor', or assign to an empty array created with `np.empty(correct_shape, dtype=object)`.\n",
                        "  get_all_metrics(np.asarray(y_true_list).astype('int'), np.asarray(y_pred_list), np.asarray(y_score_list))\n",
                        "/tmp/ipykernel_55986/1771970707.py:122: VisibleDeprecationWarning: Creating an ndarray from ragged nested sequences (which is a list-or-tuple of lists-or-tuples-or ndarrays with different lengths or shapes) is deprecated. If you meant to do this, you must specify 'dtype=object' when creating the ndarray.\n",
                        "  get_all_metrics(np.asarray(y_true_list).astype('int'), np.asarray(y_pred_list), np.asarray(y_score_list))\n"
                    ]
                },
                {
                    "name": "stdout",
                    "output_type": "stream",
                    "text": [
                        "precision of failed:  0.9266288679607918\n",
                        "precision of healthy:  0.6917660273025747\n",
                        "tpr:  0.5747280584115632\n",
                        "fpr:  0.04551008851667511\n",
                        "auc:  0.9006701913957871\n",
                        "f1-score:  0.7094377103757794\n"
                    ]
                },
                {
                    "name": "stderr",
                    "output_type": "stream",
                    "text": [
                        "/tmp/ipykernel_55986/1771970707.py:122: FutureWarning: The input object of type 'Tensor' is an array-like implementing one of the corresponding protocols (`__array__`, `__array_interface__` or `__array_struct__`); but not a sequence (or 0-D). In the future, this object will be coerced as if it was first converted using `np.array(obj)`. To retain the old behaviour, you have to either modify the type 'Tensor', or assign to an empty array created with `np.empty(correct_shape, dtype=object)`.\n",
                        "  get_all_metrics(np.asarray(y_true_list).astype('int'), np.asarray(y_pred_list), np.asarray(y_score_list))\n",
                        "/tmp/ipykernel_55986/1771970707.py:122: VisibleDeprecationWarning: Creating an ndarray from ragged nested sequences (which is a list-or-tuple of lists-or-tuples-or ndarrays with different lengths or shapes) is deprecated. If you meant to do this, you must specify 'dtype=object' when creating the ndarray.\n",
                        "  get_all_metrics(np.asarray(y_true_list).astype('int'), np.asarray(y_pred_list), np.asarray(y_score_list))\n"
                    ]
                },
                {
                    "name": "stdout",
                    "output_type": "stream",
                    "text": [
                        "precision of failed:  0.9266288679607918\n",
                        "precision of healthy:  0.6917660273025747\n",
                        "tpr:  0.5747280584115632\n",
                        "fpr:  0.04551008851667511\n",
                        "auc:  0.9006701913957871\n",
                        "f1-score:  0.7094377103757794\n"
                    ]
                },
                {
                    "name": "stderr",
                    "output_type": "stream",
                    "text": [
                        "/tmp/ipykernel_55986/1771970707.py:122: FutureWarning: The input object of type 'Tensor' is an array-like implementing one of the corresponding protocols (`__array__`, `__array_interface__` or `__array_struct__`); but not a sequence (or 0-D). In the future, this object will be coerced as if it was first converted using `np.array(obj)`. To retain the old behaviour, you have to either modify the type 'Tensor', or assign to an empty array created with `np.empty(correct_shape, dtype=object)`.\n",
                        "  get_all_metrics(np.asarray(y_true_list).astype('int'), np.asarray(y_pred_list), np.asarray(y_score_list))\n",
                        "/tmp/ipykernel_55986/1771970707.py:122: VisibleDeprecationWarning: Creating an ndarray from ragged nested sequences (which is a list-or-tuple of lists-or-tuples-or ndarrays with different lengths or shapes) is deprecated. If you meant to do this, you must specify 'dtype=object' when creating the ndarray.\n",
                        "  get_all_metrics(np.asarray(y_true_list).astype('int'), np.asarray(y_pred_list), np.asarray(y_score_list))\n"
                    ]
                },
                {
                    "name": "stdout",
                    "output_type": "stream",
                    "text": [
                        "precision of failed:  0.9266288679607918\n",
                        "precision of healthy:  0.6917660273025747\n",
                        "tpr:  0.5747280584115632\n",
                        "fpr:  0.04551008851667511\n",
                        "auc:  0.9006701913957871\n",
                        "f1-score:  0.7094377103757794\n"
                    ]
                },
                {
                    "name": "stderr",
                    "output_type": "stream",
                    "text": [
                        "/tmp/ipykernel_55986/1771970707.py:122: FutureWarning: The input object of type 'Tensor' is an array-like implementing one of the corresponding protocols (`__array__`, `__array_interface__` or `__array_struct__`); but not a sequence (or 0-D). In the future, this object will be coerced as if it was first converted using `np.array(obj)`. To retain the old behaviour, you have to either modify the type 'Tensor', or assign to an empty array created with `np.empty(correct_shape, dtype=object)`.\n",
                        "  get_all_metrics(np.asarray(y_true_list).astype('int'), np.asarray(y_pred_list), np.asarray(y_score_list))\n",
                        "/tmp/ipykernel_55986/1771970707.py:122: VisibleDeprecationWarning: Creating an ndarray from ragged nested sequences (which is a list-or-tuple of lists-or-tuples-or ndarrays with different lengths or shapes) is deprecated. If you meant to do this, you must specify 'dtype=object' when creating the ndarray.\n",
                        "  get_all_metrics(np.asarray(y_true_list).astype('int'), np.asarray(y_pred_list), np.asarray(y_score_list))\n"
                    ]
                },
                {
                    "name": "stdout",
                    "output_type": "stream",
                    "text": [
                        "precision of failed:  0.9266288679607918\n",
                        "precision of healthy:  0.6917660273025747\n",
                        "tpr:  0.5747280584115632\n",
                        "fpr:  0.04551008851667511\n",
                        "auc:  0.9006701913957871\n",
                        "f1-score:  0.7094377103757794\n"
                    ]
                },
                {
                    "name": "stderr",
                    "output_type": "stream",
                    "text": [
                        "/tmp/ipykernel_55986/1771970707.py:122: FutureWarning: The input object of type 'Tensor' is an array-like implementing one of the corresponding protocols (`__array__`, `__array_interface__` or `__array_struct__`); but not a sequence (or 0-D). In the future, this object will be coerced as if it was first converted using `np.array(obj)`. To retain the old behaviour, you have to either modify the type 'Tensor', or assign to an empty array created with `np.empty(correct_shape, dtype=object)`.\n",
                        "  get_all_metrics(np.asarray(y_true_list).astype('int'), np.asarray(y_pred_list), np.asarray(y_score_list))\n",
                        "/tmp/ipykernel_55986/1771970707.py:122: VisibleDeprecationWarning: Creating an ndarray from ragged nested sequences (which is a list-or-tuple of lists-or-tuples-or ndarrays with different lengths or shapes) is deprecated. If you meant to do this, you must specify 'dtype=object' when creating the ndarray.\n",
                        "  get_all_metrics(np.asarray(y_true_list).astype('int'), np.asarray(y_pred_list), np.asarray(y_score_list))\n"
                    ]
                },
                {
                    "name": "stdout",
                    "output_type": "stream",
                    "text": [
                        "precision of failed:  0.9266288679607918\n",
                        "precision of healthy:  0.6917660273025747\n",
                        "tpr:  0.5747280584115632\n",
                        "fpr:  0.04551008851667511\n",
                        "auc:  0.9006701913957871\n",
                        "f1-score:  0.7094377103757794\n",
                        "precision of failed:  0.9266288679607918\n",
                        "precision of healthy:  0.6917660273025747\n",
                        "tpr:  0.5747280584115632\n",
                        "fpr:  0.04551008851667511\n",
                        "auc:  0.9006701913957871\n",
                        "f1-score:  0.7094377103757794\n"
                    ]
                },
                {
                    "name": "stderr",
                    "output_type": "stream",
                    "text": [
                        "/tmp/ipykernel_55986/1771970707.py:122: FutureWarning: The input object of type 'Tensor' is an array-like implementing one of the corresponding protocols (`__array__`, `__array_interface__` or `__array_struct__`); but not a sequence (or 0-D). In the future, this object will be coerced as if it was first converted using `np.array(obj)`. To retain the old behaviour, you have to either modify the type 'Tensor', or assign to an empty array created with `np.empty(correct_shape, dtype=object)`.\n",
                        "  get_all_metrics(np.asarray(y_true_list).astype('int'), np.asarray(y_pred_list), np.asarray(y_score_list))\n",
                        "/tmp/ipykernel_55986/1771970707.py:122: VisibleDeprecationWarning: Creating an ndarray from ragged nested sequences (which is a list-or-tuple of lists-or-tuples-or ndarrays with different lengths or shapes) is deprecated. If you meant to do this, you must specify 'dtype=object' when creating the ndarray.\n",
                        "  get_all_metrics(np.asarray(y_true_list).astype('int'), np.asarray(y_pred_list), np.asarray(y_score_list))\n"
                    ]
                }
            ],
            "source": [
                "import torch\n",
                "import torch.nn as nn\n",
                "from torch.utils.data import Dataset, DataLoader\n",
                "import numpy as np\n",
                "import torch.nn.functional as F\n",
                "import matplotlib.pyplot as plt\n",
                "from sklearn import metrics\n",
                "import joblib\n",
                "import datetime\n",
                "from sklearn.metrics import roc_curve, auc\n",
                "import matplotlib.pyplot as plt\n",
                "from model.NN import NN, DatasetUtil\n",
                "import time\n",
                "\n",
                "# n_days_lookahead = int(input('Please input the length of days lookahead in {5, 7, 15, 30, 45, 60, 90, 120}: '))\n",
                "\n",
                "# if(n_days_lookahead not in [5, 7, 15, 30, 45, 60, 90, 120]):\n",
                "#     print('Input does not meet requirements.')\n",
                "#     exit()\n",
                "\n",
                "# data_type = str(input('Please specify the coverage of the data {A - Manufacturer 1, B - Manufacturer 2, C - Manufacturer 1 & 2}: '))\n",
                "\n",
                "# if(data_type not in ['A', 'B', 'C']):\n",
                "#     print('Input does not meet requirements.')\n",
                "#     exit()\n",
                "\n",
                "dit_str = {\n",
                "            'A':'mc1', 'B':'mc2', 'C':'mc1_mc2', 'D':'mc1_no_aging_attr', 'E':'balanced_mc1_mc2', 'F':'500_mc2', 'G':'unbalanced_1_5_mc1', 'H':'unbalanced_1_5_mc2', \n",
                "            'I0':'minority_mc2_5','I1':'minority_mc2_30','I2':'minority_mc2_100','I3':'minority_mc2_300','I4':'minority_mc2_600','K':'unbalanced'\n",
                "          }\n",
                "\n",
                "# model_type = str(input('Please input the type of trained model to use {A - Manufacturer 1, B - Manufacturer 2, C - Manufacturer 1 & 2}: '))\n",
                "\n",
                "# if(model_type not in ['A', 'B', 'C']):\n",
                "#     print('Input does not meet requirements.')\n",
                "#     exit()\n",
                "\n",
                "# if(dit_str[data_type] != dit_str[model_type] and (dit_str[data_type] == 'mc1_no_aging_attr' or dit_str[model_type] == 'mc1_no_aging_attr')):\n",
                "#     print('The trained model cannot process the specified data.')\n",
                "\n",
                "def loadData():\n",
                "\n",
                "    X = np.load('../data/' + dit_str[data_type] + '/' + str(n_days_lookahead) + '_days_lookahead/smart_test.npy',allow_pickle=True)\n",
                "    y = np.load('../data/' + dit_str[data_type] + '/' + str(n_days_lookahead) + '_days_lookahead/test_labels.npy',allow_pickle=True)\n",
                "\n",
                "    X = X.astype('float32')\n",
                "    y = y.astype('float32')\n",
                "    return X, y\n",
                "\n",
                "\n",
                "def get_all_metrics(true, predicted, score):\n",
                "    confusion_matrix = metrics.confusion_matrix(true, predicted)\n",
                "    fpr_list, tpr_list, thersholds = roc_curve(true, score)\n",
                "    roc_auc = auc(fpr_list, tpr_list)\n",
                "    TP = confusion_matrix[0][0]\n",
                "    FN = confusion_matrix[0][1]\n",
                "    FP = confusion_matrix[1][0]\n",
                "    TN =  confusion_matrix[1][1]\n",
                "    precision_of_failed = TP / (TP + FP)\n",
                "    precision_of_healthy = TN / (TN + FN)\n",
                "    tpr = TP / (TP + FN)\n",
                "    fpr = FP / (TN + FP)\n",
                "    auc_score = roc_auc\n",
                "    f1_score = 2*precision_of_failed*tpr / (precision_of_failed+tpr)\n",
                "    print('precision of failed: ', precision_of_failed)\n",
                "    print('precision of healthy: ', precision_of_healthy)\n",
                "    print('tpr: ', tpr)\n",
                "    print('fpr: ', fpr)\n",
                "    print('auc: ', auc_score)\n",
                "    print('f1-score: ', f1_score)\n",
                "#     print('roc curve: ')\n",
                "#     plt.plot(fpr_list, tpr_list)\n",
                "#     plt.xlim([-0.05, 1.05])  \n",
                "#     plt.ylim([-0.05, 1.05])\n",
                "#     plt.xlabel('FPR')\n",
                "#     plt.ylabel('TPR')\n",
                "#     plt.title('ROC Curve')\n",
                "#     plt.legend(loc=\"lower right\")\n",
                "#     plt.show()\n",
                "    \n",
                "# print('-------------------- NN --------------------')\n",
                "# print('------------------ Loading Data ------------------')\n",
                "data_type='C'\n",
                "model_type='C'\n",
                "for n_days_lookahead in [5, 7, 15, 30, 45, 60, 90, 120]:\n",
                "    T1 = time.time()\n",
                "    X, y = loadData()\n",
                "\n",
                "    if(dit_str[data_type] != 'mc1_no_aging_attr'):\n",
                "        input_size = 330\n",
                "        hidden_size = 512\n",
                "    else:\n",
                "        input_size = 90\n",
                "        hidden_size = 128\n",
                "    output_size = 1\n",
                "    num_layers = 2\n",
                "    device = torch.device('cuda' if torch.cuda.is_available() else 'cpu')\n",
                "#     print(device)\n",
                "\n",
                "    model = NN(input_size=input_size, hidden_size=hidden_size, output_size=output_size).to(device)\n",
                "    model.load_state_dict(torch.load('../trained_model/'+ dit_str[model_type] + '/' + str(n_days_lookahead) + '_days_lookahead/nn.pth'))\n",
                "\n",
                "    X = X.reshape((len(X),-1))\n",
                "\n",
                "    test_dataset = DatasetUtil(X, y)\n",
                "    test_loader = DataLoader(dataset=test_dataset, batch_size=64, shuffle=True)\n",
                "\n",
                "    y_pred_list = []\n",
                "    y_true_list = []\n",
                "    y_score_list = []\n",
                "    with torch.no_grad():\n",
                "        total=0\n",
                "        for i, (X, y) in enumerate(test_loader):\n",
                "            X = X.to(device)\n",
                "            y = y.to(device)\n",
                "            score = model(X)\n",
                "            predicted = torch.tensor([1 if x[0] > 0.5 else 0 for x in score]).to(device)\n",
                "            for j in range(0,len(y)):\n",
                "                y_pred_list.append(int(predicted[j].cpu()))\n",
                "                y_true_list.append(y[j].cpu())\n",
                "                y_score_list.append(float(score[j][0]))\n",
                "\n",
                "    get_all_metrics(np.asarray(y_true_list).astype('int'), np.asarray(y_pred_list), np.asarray(y_score_list))\n",
                "    T2 = time.time()\n",
                "    print((T2-T1)*1000)"
            ]
        },
        {
            "cell_type": "code",
            "execution_count": null,
            "id": "f29ba005-5823-4798-87af-c014c9e6dd85",
            "metadata": {},
            "outputs": [],
            "source": []
        },
        {
            "cell_type": "code",
            "execution_count": null,
            "id": "3af1600b-cbad-4a5c-9bcb-93635a9cc37a",
            "metadata": {},
            "outputs": [],
            "source": []
        }
    ],
    "metadata": {
        "kernelspec": {
            "display_name": "Python 3.10",
            "language": "python",
            "name": "py310"
        },
        "language_info": {
            "codemirror_mode": {
                "name": "ipython",
                "version": 3
            },
            "file_extension": ".py",
            "mimetype": "text/x-python",
            "name": "python",
            "nbconvert_exporter": "python",
            "pygments_lexer": "ipython3",
            "version": "3.10.4"
        }
    },
    "nbformat": 4,
    "nbformat_minor": 5
}