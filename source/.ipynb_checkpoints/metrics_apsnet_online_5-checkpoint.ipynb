{
 "cells": [
  {
   "cell_type": "code",
   "execution_count": 1,
   "id": "8a4d98ec-a59a-45e9-998e-4e68ba2841d5",
   "metadata": {},
   "outputs": [
    {
     "name": "stderr",
     "output_type": "stream",
     "text": [
      "/usr/local/anaconda3/envs/py310/lib/python3.10/site-packages/tqdm/auto.py:22: TqdmWarning: IProgress not found. Please update jupyter and ipywidgets. See https://ipywidgets.readthedocs.io/en/stable/user_install.html\n",
      "  from .autonotebook import tqdm as notebook_tqdm\n"
     ]
    }
   ],
   "source": [
    "import torch\n",
    "import torch.nn as nn\n",
    "from torch.utils.data import Dataset, DataLoader\n",
    "import numpy as np\n",
    "import torch.nn.functional as F\n",
    "import matplotlib.pyplot as plt\n",
    "from sklearn import metrics\n",
    "import joblib\n",
    "import datetime\n",
    "from sklearn.metrics import roc_curve, auc\n",
    "import matplotlib.pyplot as plt\n",
    "import sys\n",
    "# sys.path.append(r\"source/model_source\")\n",
    "from model.PNet import LSTM, NN, PSiameseNetwork, DatasetUtil, ContrastiveLoss "
   ]
  },
  {
   "cell_type": "code",
   "execution_count": 89,
   "id": "280ee37b-861e-4354-8962-61a10ef78b0c",
   "metadata": {},
   "outputs": [
    {
     "name": "stdin",
     "output_type": "stream",
     "text": [
      "Please input the length of days lookahead in {5, 7, 15, 30, 45, 60, 90, 120}:  5\n",
      "Please specify the coverage of the data {A - Manufacturer 1, B - Manufacturer 2, C - Manufacturer 1 & 2, D - Manufacturer 1 without aging information}:  A\n",
      "Please input the type of trained model to use {A - Manufacturer 1, B - Manufacturer 2, C - Manufacturer 1 & 2, D - Manufacturer 1 without aging information}:  C\n"
     ]
    }
   ],
   "source": [
    "n_days_lookahead = int(input('Please input the length of days lookahead in {5, 7, 15, 30, 45, 60, 90, 120}: '))\n",
    "\n",
    "if(n_days_lookahead not in [5, 7, 15, 30, 45, 60, 90, 120]):\n",
    "    print('Input does not meet requirements.')\n",
    "    exit()\n",
    "\n",
    "data_type = str(input('Please specify the coverage of the data {A - Manufacturer 1, B - Manufacturer 2, C - Manufacturer 1 & 2, D - Manufacturer 1 without aging information}: '))\n",
    "\n",
    "if(data_type not in ['A', 'B', 'C', 'D']):\n",
    "    print('Input does not meet requirements.')\n",
    "    exit()\n",
    "\n",
    "dit_str = {'A':'mc1', 'B':'mc2', 'C':'mc1_mc2', 'D':'mc1_no_aging_attr'}\n",
    "\n",
    "model_type = str(input('Please input the type of trained model to use {A - Manufacturer 1, B - Manufacturer 2, C - Manufacturer 1 & 2, D - Manufacturer 1 without aging information}: '))\n",
    "\n",
    "if(model_type not in ['A', 'B', 'C', 'D']):\n",
    "    print('Input does not meet requirements.')\n",
    "    exit()\n",
    "\n",
    "if(dit_str[data_type] != dit_str[model_type] and (dit_str[data_type] == 'mc1_no_aging_attr' or dit_str[model_type] == 'mc1_no_aging_attr')):\n",
    "    print('The trained model cannot process the specified data.')\n",
    "\n",
    "def loadData():\n",
    "\n",
    "    X = np.load('../data/' + dit_str[data_type] + '/' + str(n_days_lookahead) + '_days_lookahead/smart_test.npy',allow_pickle=True)\n",
    "    y = np.load('../data/' + dit_str[data_type] + '/' + str(n_days_lookahead) + '_days_lookahead/test_labels.npy',allow_pickle=True)\n",
    "    aging = np.load('../data/aging.npy', allow_pickle = True)\n",
    "\n",
    "    X = X.astype('float32')\n",
    "    y = y.astype('float32')\n",
    "    aging = aging.astype('float32')\n",
    "\n",
    "    return X, y, aging\n",
    "\n",
    "\n",
    "def get_all_metrics(true, predicted, score):\n",
    "    confusion_matrix = metrics.confusion_matrix(true, predicted)\n",
    "    fpr_list, tpr_list, thersholds = roc_curve(true, score)\n",
    "    roc_auc = auc(fpr_list, tpr_list)\n",
    "    TP = confusion_matrix[0][0]\n",
    "    FN = confusion_matrix[0][1]\n",
    "    FP = confusion_matrix[1][0]\n",
    "    TN =  confusion_matrix[1][1]\n",
    "    precision_of_failed = TP / (TP + FP)\n",
    "    precision_of_healthy = TN / (TN + FN)\n",
    "    tpr = TP / (TP + FN)\n",
    "    fpr = FP / (TN + FP)\n",
    "    auc_score = roc_auc\n",
    "    f1_score = 2*precision_of_failed*tpr / (precision_of_failed+tpr)\n",
    "    print('precision of failed: ', precision_of_failed)\n",
    "    print('precision of healthy: ', precision_of_healthy)\n",
    "    print('tpr: ', tpr)\n",
    "    print('fpr: ', fpr)\n",
    "    print('auc: ', auc_score)\n",
    "    print('f1-score: ', f1_score)\n",
    "    print('roc curve: ')\n",
    "    plt.plot(fpr_list, tpr_list)\n",
    "    plt.xlim([-0.05, 1.05])  \n",
    "    plt.ylim([-0.05, 1.05])\n",
    "    plt.xlabel('FPR')\n",
    "    plt.ylabel('TPR')\n",
    "    plt.title('ROC Curve')\n",
    "    plt.legend(loc=\"lower right\")\n",
    "    plt.show()\n",
    "    \n",
    "def decision(x_smart, aging, model):\n",
    "    # ret val: 0(unhealthy) 1(healthy)    \n",
    "    with torch.no_grad():\n",
    "        out1, out2 = model(x_smart, aging)\n",
    "#         print(out1, out2)\n",
    "        # print(F.pairwise_distance(out1, out2, p=2))\n",
    "#         print(out1.shape, out2.shape)\n",
    "        distance = F.pairwise_distance(out1, out2, p=2)\n",
    "#         print(distance.shape)\n",
    "#         distance = [F.pairwise_distance(x1, x2, p=2) for (x1,x2) in zip(out1, out2)]\n",
    "    return distance\n",
    "\n",
    "def computeScore(distance, limit):\n",
    "    if distance>1:\n",
    "        return 0.01\n",
    "    elif distance<limit:\n",
    "        return float(1-distance/limit*0.5)\n",
    "    else: \n",
    "        # distance>=limit\n",
    "        return float(1-(0.5+(distance-limit)/(1-limit)*0.5))\n",
    "    \n",
    "def rf_online_predictX(model, X):\n",
    "    headers = [str(i) for i in range(len(X[0]))]\n",
    "    dict_X = [dict(zip(headers, x)) for x in X]\n",
    "    y_pred = []\n",
    "    for xi in dict_X:\n",
    "        yi_pred = model.predict_one(xi)\n",
    "        y_pred.append(yi_pred)\n",
    "    return np.asarray(y_pred)"
   ]
  },
  {
   "cell_type": "code",
   "execution_count": 90,
   "id": "a33d4d11-d5ae-4dfc-8cf9-eb664e710ac0",
   "metadata": {},
   "outputs": [
    {
     "name": "stdout",
     "output_type": "stream",
     "text": [
      "cuda\n",
      "(12000, 30, 11)\n"
     ]
    }
   ],
   "source": [
    "device = torch.device('cuda' if torch.cuda.is_available() else 'cpu')\n",
    "print(device)\n",
    "if(dit_str[data_type] != 'mc1_no_aging_attr'):\n",
    "    input_size_smart = 330\n",
    "    hidden_size_smart = 128\n",
    "else:\n",
    "    input_size_smart = 90\n",
    "    hidden_size_smart = 64\n",
    "output_size_smart = 48\n",
    "input_size_aging = 5\n",
    "hidden_size_aging = 32\n",
    "output_size_aging = 48\n",
    "output_size_model = 64\n",
    "num_layers_smart = 3\n",
    "num_layers_aging = 3\n",
    "pnet = PSiameseNetwork(\n",
    "    input_size_smart=input_size_smart, \n",
    "    input_size_aging=input_size_aging, \n",
    "    hidden_size_smart=hidden_size_smart, \n",
    "    hidden_size_aging=hidden_size_aging,\n",
    "    num_layers_smart=num_layers_smart, \n",
    "    num_layers_aging=num_layers_aging,\n",
    "    output_size_smart=output_size_smart, \n",
    "    output_size_aging=output_size_aging,\n",
    "    output_size_model=output_size_model\n",
    ")\n",
    "pnet.load_state_dict(torch.load('../trained_model/' + dit_str[model_type] + '/' + str(n_days_lookahead) + '_days_lookahead/pnet_online.pth'))\n",
    "rf = joblib.load('../trained_model/' + dit_str[model_type] + '/' + str(n_days_lookahead) + '_days_lookahead/rf_online.pkl')\n",
    "X_smart_test, y_smart_test, aging = loadData()\n",
    "print(X_smart_test.shape)\n",
    "\n",
    "test_dataset_smart = DatasetUtil(X_smart_test, aging, y_smart_test)\n",
    "test_loader_smart = DataLoader(dataset=test_dataset_smart, batch_size=128, shuffle=False)"
   ]
  },
  {
   "cell_type": "code",
   "execution_count": 101,
   "id": "8601d282-e1b4-4042-be80-2a794f414439",
   "metadata": {},
   "outputs": [
    {
     "name": "stdout",
     "output_type": "stream",
     "text": [
      "------------------ APSNet--------------\n"
     ]
    },
    {
     "name": "stderr",
     "output_type": "stream",
     "text": [
      "/tmp/ipykernel_75316/1398895101.py:45: FutureWarning: The input object of type 'Tensor' is an array-like implementing one of the corresponding protocols (`__array__`, `__array_interface__` or `__array_struct__`); but not a sequence (or 0-D). In the future, this object will be coerced as if it was first converted using `np.array(obj)`. To retain the old behaviour, you have to either modify the type 'Tensor', or assign to an empty array created with `np.empty(correct_shape, dtype=object)`.\n",
      "  get_all_metrics(np.asarray(y_true_list).astype('int'), np.asarray(y_pred_union_list), np.asarray(y_score_list))\n",
      "/tmp/ipykernel_75316/1398895101.py:45: VisibleDeprecationWarning: Creating an ndarray from ragged nested sequences (which is a list-or-tuple of lists-or-tuples-or ndarrays with different lengths or shapes) is deprecated. If you meant to do this, you must specify 'dtype=object' when creating the ndarray.\n",
      "  get_all_metrics(np.asarray(y_true_list).astype('int'), np.asarray(y_pred_union_list), np.asarray(y_score_list))\n",
      "No artists with labels found to put in legend.  Note that artists whose label start with an underscore are ignored when legend() is called with no argument.\n"
     ]
    },
    {
     "name": "stdout",
     "output_type": "stream",
     "text": [
      "precision of failed:  0.8370580386924616\n",
      "precision of healthy:  0.8366089273817455\n",
      "tpr:  0.8365\n",
      "fpr:  0.16283333333333333\n",
      "auc:  0.9069676805555555\n",
      "f1-score:  0.8367789263087697\n",
      "roc curve: \n"
     ]
    },
    {
     "data": {
      "image/png": "[encoded data removed]",
      "text/plain": [
       "<Figure size 640x480 with 1 Axes>"
      ]
     },
     "metadata": {},
     "output_type": "display_data"
    }
   ],
   "source": [
    "print('------------------ APSNet--------------')\n",
    "\n",
    "if dit_str[model_type]=='mc1':\n",
    "    best_upper_limit_dit = {5:0.98,7:1,   15:1,   30:0.8,  45:0.8,  60:0.8,  90:0.90,120:0.90}\n",
    "    best_lower_limit_dit = {5:0.2, 7:0.25,15:0.23,30:0.35, 45:0.24, 60:0.25, 90:0.20,120:0.3}\n",
    "elif dit_str[model_type]=='mc2':\n",
    "    best_upper_limit_dit = {5:2,    7:1,   15:1,   30:1,  45:1,  60:1,  90:5,120:5}\n",
    "    best_lower_limit_dit = {5:0.25, 7:0.15,15:0.2, 30:0.1, 45:0.1, 60:0.1, 90:0.1,120:0.1}\n",
    "elif dit_str[model_type]=='mc1_mc2':\n",
    "    if dit_str[data_type]=='mc1':\n",
    "        # 0.8 0.5 39 32\n",
    "        # 0.75 0.5 37 36\n",
    "        best_upper_limit_dit = {5:0.75,  7:0.7,   15:0.8,   30:0.85,  45:0.75,  60:0.6,  90:1.1,120:1}\n",
    "        best_lower_limit_dit = {5:0.5, 7:0.4,    15:0.3,   30:0.35, 45:0.25, 60:0.23, 90:0.1,  120:0.1}\n",
    "    elif dit_str[data_type]=='mc2':\n",
    "        best_upper_limit_dit = {5:0.9,  7:0.7,   15:0.8,   30:0.85,  45:0.75,  60:0.6,  90:1.1,120:1}\n",
    "        best_lower_limit_dit = {5:0.4, 7:0.4,    15:0.3,   30:0.35, 45:0.25, 60:0.23, 90:0.1,  120:0.1}\n",
    "\n",
    "upper_limit = best_upper_limit_dit[n_days_lookahead]\n",
    "lower_limit = best_lower_limit_dit[n_days_lookahead]\n",
    "\n",
    "# 1: 0.70, 0: 0.42\n",
    "y_pred_union_list = []\n",
    "y_pred_rf_list = []\n",
    "y_score_list = []\n",
    "y_true_list = []\n",
    "with torch.no_grad():\n",
    "    for i, (X, aging, y) in enumerate(test_loader_smart):\n",
    "        X = X.to(device)\n",
    "        y = y.to(device)\n",
    "        aging = aging.to(device)\n",
    "        y_pred_rf = rf_online_predictX(rf, X.cpu().numpy().reshape((-1,input_size_smart)))\n",
    "        distance = decision(X, aging, pnet)\n",
    "\n",
    "        for j in range(0,len(distance)):\n",
    "            if y_pred_rf[j] == 1:\n",
    "                score = computeScore(distance[j], upper_limit)\n",
    "                y_score_list.append(score)\n",
    "                y_pred_union_list.append(1 if distance[j]<=upper_limit else 0)\n",
    "            else:\n",
    "                score = computeScore(distance[j], lower_limit)\n",
    "                y_score_list.append(score)\n",
    "                y_pred_union_list.append(1 if distance[j]<=lower_limit else 0)                \n",
    "            y_true_list.append(y[j].cpu())\n",
    "            y_pred_rf_list.append(y_pred_rf[j])\n",
    "\n",
    "get_all_metrics(np.asarray(y_true_list).astype('int'), np.asarray(y_pred_union_list), np.asarray(y_score_list))"
   ]
  },
  {
   "cell_type": "code",
   "execution_count": null,
   "id": "e6518de9-9c70-461f-8be5-f1a0e106f5f9",
   "metadata": {},
   "outputs": [],
   "source": []
  }
 ],
 "metadata": {
  "kernelspec": {
   "display_name": "Python 3.10",
   "language": "python",
   "name": "py310"
  },
  "language_info": {
   "codemirror_mode": {
    "name": "ipython",
    "version": 3
   },
   "file_extension": ".py",
   "mimetype": "text/x-python",
   "name": "python",
   "nbconvert_exporter": "python",
   "pygments_lexer": "ipython3",
   "version": "3.10.4"
  }
 },
 "nbformat": 4,
 "nbformat_minor": 5
}
