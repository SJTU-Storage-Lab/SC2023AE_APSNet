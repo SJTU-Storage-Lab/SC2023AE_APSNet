{
    "cells": [
        {
            "cell_type": "code",
            "execution_count": 2,
            "id": "55aef22c-8c26-4c1a-81e9-c7f5e621745d",
            "metadata": {},
            "outputs": [
                {
                    "name": "stderr",
                    "output_type": "stream",
                    "text": [
                        "/tmp/ipykernel_75318/1706291421.py:118: FutureWarning: The input object of type 'Tensor' is an array-like implementing one of the corresponding protocols (`__array__`, `__array_interface__` or `__array_struct__`); but not a sequence (or 0-D). In the future, this object will be coerced as if it was first converted using `np.array(obj)`. To retain the old behaviour, you have to either modify the type 'Tensor', or assign to an empty array created with `np.empty(correct_shape, dtype=object)`.\n",
                        "  get_all_metrics(np.asarray(y_true_list).astype('int'), np.asarray(y_pred_list), np.asarray(y_score_list))\n",
                        "/tmp/ipykernel_75318/1706291421.py:118: VisibleDeprecationWarning: Creating an ndarray from ragged nested sequences (which is a list-or-tuple of lists-or-tuples-or ndarrays with different lengths or shapes) is deprecated. If you meant to do this, you must specify 'dtype=object' when creating the ndarray.\n",
                        "  get_all_metrics(np.asarray(y_true_list).astype('int'), np.asarray(y_pred_list), np.asarray(y_score_list))\n"
                    ]
                },
                {
                    "name": "stdout",
                    "output_type": "stream",
                    "text": [
                        "precision of failed:  0.8403604216252976\n",
                        "precision of healthy:  0.8272311212814645\n",
                        "tpr:  0.8238333333333333\n",
                        "fpr:  0.1565\n",
                        "auc:  0.9066036527777778\n",
                        "f1-score:  0.8320148123211581\n"
                    ]
                },
                {
                    "name": "stderr",
                    "output_type": "stream",
                    "text": [
                        "/tmp/ipykernel_75318/1706291421.py:118: FutureWarning: The input object of type 'Tensor' is an array-like implementing one of the corresponding protocols (`__array__`, `__array_interface__` or `__array_struct__`); but not a sequence (or 0-D). In the future, this object will be coerced as if it was first converted using `np.array(obj)`. To retain the old behaviour, you have to either modify the type 'Tensor', or assign to an empty array created with `np.empty(correct_shape, dtype=object)`.\n",
                        "  get_all_metrics(np.asarray(y_true_list).astype('int'), np.asarray(y_pred_list), np.asarray(y_score_list))\n",
                        "/tmp/ipykernel_75318/1706291421.py:118: VisibleDeprecationWarning: Creating an ndarray from ragged nested sequences (which is a list-or-tuple of lists-or-tuples-or ndarrays with different lengths or shapes) is deprecated. If you meant to do this, you must specify 'dtype=object' when creating the ndarray.\n",
                        "  get_all_metrics(np.asarray(y_true_list).astype('int'), np.asarray(y_pred_list), np.asarray(y_score_list))\n"
                    ]
                },
                {
                    "name": "stdout",
                    "output_type": "stream",
                    "text": [
                        "precision of failed:  0.7296476306196841\n",
                        "precision of healthy:  0.7791728212703102\n",
                        "tpr:  0.8006666666666666\n",
                        "fpr:  0.2966666666666667\n",
                        "auc:  0.8252216388888889\n",
                        "f1-score:  0.7635092180546724\n"
                    ]
                },
                {
                    "name": "stderr",
                    "output_type": "stream",
                    "text": [
                        "/tmp/ipykernel_75318/1706291421.py:118: FutureWarning: The input object of type 'Tensor' is an array-like implementing one of the corresponding protocols (`__array__`, `__array_interface__` or `__array_struct__`); but not a sequence (or 0-D). In the future, this object will be coerced as if it was first converted using `np.array(obj)`. To retain the old behaviour, you have to either modify the type 'Tensor', or assign to an empty array created with `np.empty(correct_shape, dtype=object)`.\n",
                        "  get_all_metrics(np.asarray(y_true_list).astype('int'), np.asarray(y_pred_list), np.asarray(y_score_list))\n",
                        "/tmp/ipykernel_75318/1706291421.py:118: VisibleDeprecationWarning: Creating an ndarray from ragged nested sequences (which is a list-or-tuple of lists-or-tuples-or ndarrays with different lengths or shapes) is deprecated. If you meant to do this, you must specify 'dtype=object' when creating the ndarray.\n",
                        "  get_all_metrics(np.asarray(y_true_list).astype('int'), np.asarray(y_pred_list), np.asarray(y_score_list))\n"
                    ]
                },
                {
                    "name": "stdout",
                    "output_type": "stream",
                    "text": [
                        "precision of failed:  0.7410826032540676\n",
                        "precision of healthy:  0.7747860199714693\n",
                        "tpr:  0.7895\n",
                        "fpr:  0.2758333333333333\n",
                        "auc:  0.8201494444444444\n",
                        "f1-score:  0.7645255003227889\n"
                    ]
                },
                {
                    "name": "stderr",
                    "output_type": "stream",
                    "text": [
                        "/tmp/ipykernel_75318/1706291421.py:118: FutureWarning: The input object of type 'Tensor' is an array-like implementing one of the corresponding protocols (`__array__`, `__array_interface__` or `__array_struct__`); but not a sequence (or 0-D). In the future, this object will be coerced as if it was first converted using `np.array(obj)`. To retain the old behaviour, you have to either modify the type 'Tensor', or assign to an empty array created with `np.empty(correct_shape, dtype=object)`.\n",
                        "  get_all_metrics(np.asarray(y_true_list).astype('int'), np.asarray(y_pred_list), np.asarray(y_score_list))\n",
                        "/tmp/ipykernel_75318/1706291421.py:118: VisibleDeprecationWarning: Creating an ndarray from ragged nested sequences (which is a list-or-tuple of lists-or-tuples-or ndarrays with different lengths or shapes) is deprecated. If you meant to do this, you must specify 'dtype=object' when creating the ndarray.\n",
                        "  get_all_metrics(np.asarray(y_true_list).astype('int'), np.asarray(y_pred_list), np.asarray(y_score_list))\n"
                    ]
                },
                {
                    "name": "stdout",
                    "output_type": "stream",
                    "text": [
                        "precision of failed:  0.7280649038461539\n",
                        "precision of healthy:  0.7840568862275449\n",
                        "tpr:  0.8076666666666666\n",
                        "fpr:  0.3016666666666667\n",
                        "auc:  0.8167612222222222\n",
                        "f1-score:  0.765802781289507\n"
                    ]
                },
                {
                    "name": "stderr",
                    "output_type": "stream",
                    "text": [
                        "/tmp/ipykernel_75318/1706291421.py:118: FutureWarning: The input object of type 'Tensor' is an array-like implementing one of the corresponding protocols (`__array__`, `__array_interface__` or `__array_struct__`); but not a sequence (or 0-D). In the future, this object will be coerced as if it was first converted using `np.array(obj)`. To retain the old behaviour, you have to either modify the type 'Tensor', or assign to an empty array created with `np.empty(correct_shape, dtype=object)`.\n",
                        "  get_all_metrics(np.asarray(y_true_list).astype('int'), np.asarray(y_pred_list), np.asarray(y_score_list))\n",
                        "/tmp/ipykernel_75318/1706291421.py:118: VisibleDeprecationWarning: Creating an ndarray from ragged nested sequences (which is a list-or-tuple of lists-or-tuples-or ndarrays with different lengths or shapes) is deprecated. If you meant to do this, you must specify 'dtype=object' when creating the ndarray.\n",
                        "  get_all_metrics(np.asarray(y_true_list).astype('int'), np.asarray(y_pred_list), np.asarray(y_score_list))\n"
                    ]
                },
                {
                    "name": "stdout",
                    "output_type": "stream",
                    "text": [
                        "precision of failed:  0.7212538226299694\n",
                        "precision of healthy:  0.765018315018315\n",
                        "tpr:  0.7861666666666667\n",
                        "fpr:  0.30383333333333334\n",
                        "auc:  0.808765125\n",
                        "f1-score:  0.7523125996810207\n"
                    ]
                },
                {
                    "name": "stderr",
                    "output_type": "stream",
                    "text": [
                        "/tmp/ipykernel_75318/1706291421.py:118: FutureWarning: The input object of type 'Tensor' is an array-like implementing one of the corresponding protocols (`__array__`, `__array_interface__` or `__array_struct__`); but not a sequence (or 0-D). In the future, this object will be coerced as if it was first converted using `np.array(obj)`. To retain the old behaviour, you have to either modify the type 'Tensor', or assign to an empty array created with `np.empty(correct_shape, dtype=object)`.\n",
                        "  get_all_metrics(np.asarray(y_true_list).astype('int'), np.asarray(y_pred_list), np.asarray(y_score_list))\n",
                        "/tmp/ipykernel_75318/1706291421.py:118: VisibleDeprecationWarning: Creating an ndarray from ragged nested sequences (which is a list-or-tuple of lists-or-tuples-or ndarrays with different lengths or shapes) is deprecated. If you meant to do this, you must specify 'dtype=object' when creating the ndarray.\n",
                        "  get_all_metrics(np.asarray(y_true_list).astype('int'), np.asarray(y_pred_list), np.asarray(y_score_list))\n"
                    ]
                },
                {
                    "name": "stdout",
                    "output_type": "stream",
                    "text": [
                        "precision of failed:  0.7516660820764643\n",
                        "precision of healthy:  0.7278501111463956\n",
                        "tpr:  0.7143333333333334\n",
                        "fpr:  0.236\n",
                        "auc:  0.8118528611111111\n",
                        "f1-score:  0.7325243548111434\n"
                    ]
                },
                {
                    "name": "stderr",
                    "output_type": "stream",
                    "text": [
                        "/tmp/ipykernel_75318/1706291421.py:118: FutureWarning: The input object of type 'Tensor' is an array-like implementing one of the corresponding protocols (`__array__`, `__array_interface__` or `__array_struct__`); but not a sequence (or 0-D). In the future, this object will be coerced as if it was first converted using `np.array(obj)`. To retain the old behaviour, you have to either modify the type 'Tensor', or assign to an empty array created with `np.empty(correct_shape, dtype=object)`.\n",
                        "  get_all_metrics(np.asarray(y_true_list).astype('int'), np.asarray(y_pred_list), np.asarray(y_score_list))\n",
                        "/tmp/ipykernel_75318/1706291421.py:118: VisibleDeprecationWarning: Creating an ndarray from ragged nested sequences (which is a list-or-tuple of lists-or-tuples-or ndarrays with different lengths or shapes) is deprecated. If you meant to do this, you must specify 'dtype=object' when creating the ndarray.\n",
                        "  get_all_metrics(np.asarray(y_true_list).astype('int'), np.asarray(y_pred_list), np.asarray(y_score_list))\n"
                    ]
                },
                {
                    "name": "stdout",
                    "output_type": "stream",
                    "text": [
                        "precision of failed:  0.7154992548435172\n",
                        "precision of healthy:  0.7733459357277883\n",
                        "tpr:  0.8001666666666667\n",
                        "fpr:  0.31816666666666665\n",
                        "auc:  0.8097740833333333\n",
                        "f1-score:  0.7554681353265146\n",
                        "precision of failed:  0.7122930717351318\n",
                        "precision of healthy:  0.7529218407596786\n",
                        "tpr:  0.7745\n",
                        "fpr:  0.31283333333333335\n",
                        "auc:  0.8013905138888889\n",
                        "f1-score:  0.7420951772596615\n"
                    ]
                },
                {
                    "name": "stderr",
                    "output_type": "stream",
                    "text": [
                        "/tmp/ipykernel_75318/1706291421.py:118: FutureWarning: The input object of type 'Tensor' is an array-like implementing one of the corresponding protocols (`__array__`, `__array_interface__` or `__array_struct__`); but not a sequence (or 0-D). In the future, this object will be coerced as if it was first converted using `np.array(obj)`. To retain the old behaviour, you have to either modify the type 'Tensor', or assign to an empty array created with `np.empty(correct_shape, dtype=object)`.\n",
                        "  get_all_metrics(np.asarray(y_true_list).astype('int'), np.asarray(y_pred_list), np.asarray(y_score_list))\n",
                        "/tmp/ipykernel_75318/1706291421.py:118: VisibleDeprecationWarning: Creating an ndarray from ragged nested sequences (which is a list-or-tuple of lists-or-tuples-or ndarrays with different lengths or shapes) is deprecated. If you meant to do this, you must specify 'dtype=object' when creating the ndarray.\n",
                        "  get_all_metrics(np.asarray(y_true_list).astype('int'), np.asarray(y_pred_list), np.asarray(y_score_list))\n"
                    ]
                }
            ],
            "source": [
                "import torch\n",
                "import torch.nn as nn\n",
                "from torch.utils.data import Dataset, DataLoader\n",
                "import numpy as np\n",
                "import torch.nn.functional as F\n",
                "import matplotlib.pyplot as plt\n",
                "from sklearn import metrics\n",
                "import joblib\n",
                "import datetime\n",
                "from sklearn.metrics import roc_curve, auc\n",
                "import matplotlib.pyplot as plt\n",
                "from model.NN import NN, DatasetUtil\n",
                "\n",
                "n_days_lookahead = int(input('Please input the length of days lookahead in {5, 7, 15, 30, 45, 60, 90, 120}: '))\n",
                "\n",
                "if(n_days_lookahead not in [5, 7, 15, 30, 45, 60, 90, 120]):\n",
                "    print('Input does not meet requirements.')\n",
                "    exit()\n",
                "\n",
                "data_type = str(input('Please specify the coverage of the data {A - Manufacturer 1, B - Manufacturer 2, C - Manufacturer 1 & 2}: '))\n",
                "\n",
                "if(data_type not in ['A', 'B', 'C']):\n",
                "    print('Input does not meet requirements.')\n",
                "    exit()\n",
                "\n",
                "dit_str = {'A': 'mc1', 'B': 'mc2', 'C': 'mc1_mc2'}\n",
                "\n",
                "model_type = str(input('Please input the type of trained model to use {A - Manufacturer 1, B - Manufacturer 2, C - Manufacturer 1 & 2}: '))\n",
                "\n",
                "if(model_type not in ['A', 'B', 'C']):\n",
                "    print('Input does not meet requirements.')\n",
                "    exit()\n",
                "\n",
                "\n",
                "def loadData():\n",
                "\n",
                "    X = np.load('../data/' + dit_str[data_type] + '/' + str(n_days_lookahead) + '_days_lookahead/smart_test.npy',allow_pickle=True)\n",
                "    y = np.load('../data/' + dit_str[data_type] + '/' + str(n_days_lookahead) + '_days_lookahead/test_labels.npy',allow_pickle=True)\n",
                "\n",
                "    X = X.astype('float32')\n",
                "    y = y.astype('float32')\n",
                "    return X, y\n",
                "\n",
                "\n",
                "def get_all_metrics(true, predicted, score):\n",
                "    confusion_matrix = metrics.confusion_matrix(true, predicted)\n",
                "    fpr_list, tpr_list, thersholds = roc_curve(true, score)\n",
                "    roc_auc = auc(fpr_list, tpr_list)\n",
                "    TP = confusion_matrix[0][0]\n",
                "    FN = confusion_matrix[0][1]\n",
                "    FP = confusion_matrix[1][0]\n",
                "    TN =  confusion_matrix[1][1]\n",
                "    precision_of_failed = TP / (TP + FP)\n",
                "    precision_of_healthy = TN / (TN + FN)\n",
                "    tpr = TP / (TP + FN)\n",
                "    fpr = FP / (TN + FP)\n",
                "    auc_score = roc_auc\n",
                "    f1_score = 2*precision_of_failed*tpr / (precision_of_failed+tpr)\n",
                "    print('precision of failed: ', precision_of_failed)\n",
                "    print('precision of healthy: ', precision_of_healthy)\n",
                "    print('tpr: ', tpr)\n",
                "    print('fpr: ', fpr)\n",
                "    print('auc: ', auc_score)\n",
                "    print('f1-score: ', f1_score)\n",
                "    print('roc curve: ')\n",
                "    plt.plot(fpr_list, tpr_list)\n",
                "    plt.xlim([-0.05, 1.05])  \n",
                "    plt.ylim([-0.05, 1.05])\n",
                "    plt.xlabel('FPR')\n",
                "    plt.ylabel('TPR')\n",
                "    plt.title('ROC Curve')\n",
                "    plt.legend(loc=\"lower right\")\n",
                "    plt.show()\n",
                "    \n",
                "# print('-------------------- NN --------------------')\n",
                "# print('------------------ Loading Data ------------------')\n",
                "X, y = loadData()\n",
                "\n",
                "input_size = 330\n",
                "hidden_size = 512\n",
                "\n",
                "output_size = 1\n",
                "num_layers = 2\n",
                "device = torch.device('cuda' if torch.cuda.is_available() else 'cpu')\n",
                "print(device)\n",
                "\n",
                "model = NN(input_size=input_size, hidden_size=hidden_size, output_size=output_size).to(device)\n",
                "model.load_state_dict(torch.load('../trained_model/'+ dit_str[model_type] + '/' + str(n_days_lookahead) + '_days_lookahead/nn_online.pth'))\n",
                "\n",
                "X = X.reshape((len(X),-1))\n",
                "\n",
                "test_dataset = DatasetUtil(X, y)\n",
                "test_loader = DataLoader(dataset=test_dataset, batch_size=64, shuffle=True)\n",
                "\n",
                "y_pred_list = []\n",
                "y_true_list = []\n",
                "y_score_list = []\n",
                "with torch.no_grad():\n",
                "    total=0\n",
                "    for i, (X, y) in enumerate(test_loader):\n",
                "        X = X.to(device)\n",
                "        y = y.to(device)\n",
                "        score = model(X)\n",
                "        predicted = torch.tensor([1 if x[0] > 0.5 else 0 for x in score]).to(device)\n",
                "        for j in range(0,len(y)):\n",
                "            y_pred_list.append(int(predicted[j].cpu()))\n",
                "            y_true_list.append(y[j].cpu())\n",
                "            y_score_list.append(float(score[j][0]))\n",
                "\n",
                "get_all_metrics(np.asarray(y_true_list).astype('int'), np.asarray(y_pred_list), np.asarray(y_score_list))\n"
            ]
        },
        {
            "cell_type": "code",
            "execution_count": null,
            "id": "3af1600b-cbad-4a5c-9bcb-93635a9cc37a",
            "metadata": {},
            "outputs": [],
            "source": []
        }
    ],
    "metadata": {
        "kernelspec": {
            "display_name": "Python 3.10",
            "language": "python",
            "name": "py310"
        },
        "language_info": {
            "codemirror_mode": {
                "name": "ipython",
                "version": 3
            },
            "file_extension": ".py",
            "mimetype": "text/x-python",
            "name": "python",
            "nbconvert_exporter": "python",
            "pygments_lexer": "ipython3",
            "version": "3.10.4"
        }
    },
    "nbformat": 4,
    "nbformat_minor": 5
}
