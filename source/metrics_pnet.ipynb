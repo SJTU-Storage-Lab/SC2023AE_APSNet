{
 "cells": [
  {
   "cell_type": "code",
   "execution_count": 1,
   "id": "ae646931-f317-40b2-94a2-a2bcc979211c",
   "metadata": {},
   "outputs": [
    {
     "name": "stderr",
     "output_type": "stream",
     "text": [
      "/usr/local/anaconda3/envs/py310/lib/python3.10/site-packages/tqdm/auto.py:22: TqdmWarning: IProgress not found. Please update jupyter and ipywidgets. See https://ipywidgets.readthedocs.io/en/stable/user_install.html\n",
      "  from .autonotebook import tqdm as notebook_tqdm\n"
     ]
    },
    {
     "name": "stdout",
     "output_type": "stream",
     "text": [
      "Please input the length of days lookahead in {5, 7, 15, 30, 45, 60, 90, 120}:  5\n",
      "Please specify the coverage of the data {A - Manufacturer 1, B - Manufacturer 2, C - Manufacturer 1 & 2, D - Manufacturer 1 without aging information}:  A\n",
      "Please input the type of trained model to use {A - Manufacturer 1, B - Manufacturer 2, C - Manufacturer 1 & 2, D - Manufacturer 1 without aging information}:  A\n"
     ]
    }
   ],
   "source": [
    "import torch\n",
    "import torch.nn as nn\n",
    "from torch.utils.data import Dataset, DataLoader\n",
    "import numpy as np\n",
    "import torch.nn.functional as F\n",
    "import matplotlib.pyplot as plt\n",
    "from sklearn import metrics\n",
    "import joblib\n",
    "import datetime\n",
    "from sklearn.metrics import roc_curve, auc\n",
    "import matplotlib.pyplot as plt\n",
    "import sys\n",
    "# sys.path.append(r\"source/model_source\")\n",
    "from model.PNet import LSTM, NN, PSiameseNetwork, DatasetUtil, ContrastiveLoss \n",
    "\n",
    "n_days_lookahead = int(input('Please input the length of days lookahead in {5, 7, 15, 30, 45, 60, 90, 120}: '))\n",
    "\n",
    "if(n_days_lookahead not in [5, 7, 15, 30, 45, 60, 90, 120]):\n",
    "    print('Input does not meet requirements.')\n",
    "    exit()\n",
    "\n",
    "data_type = str(input('Please specify the coverage of the data {A - Manufacturer 1, B - Manufacturer 2, C - Manufacturer 1 & 2, D - Unbalanced}: '))\n",
    "\n",
    "if(data_type not in ['A', 'B', 'C', 'D']):\n",
    "    print('Input does not meet requirements.')\n",
    "    exit()\n",
    "\n",
    "dit_str = {'A': 'mc1', 'B': 'mc2', 'C': 'mc1_mc2', 'D': 'unbalanced'}\n",
    "\n",
    "model_type = str(input('Please input the type of trained model to use {A - Manufacturer 1, B - Manufacturer 2, C - Manufacturer 1 & 2, D - Unbalanced}: '))\n",
    "\n",
    "if(model_type not in ['A', 'B', 'C', 'D']):\n",
    "    print('Input does not meet requirements.')\n",
    "    exit()\n",
    "\n",
    "def loadData():\n",
    "\n",
    "    X = np.load('../data/' + dit_str[data_type] + '/' + str(n_days_lookahead) + '_days_lookahead/smart_test.npy',allow_pickle=True)\n",
    "    y = np.load('../data/' + dit_str[data_type] + '/' + str(n_days_lookahead) + '_days_lookahead/test_labels.npy',allow_pickle=True)\n",
    "    aging = np.load('../data/aging.npy', allow_pickle = True)\n",
    "\n",
    "\n",
    "    X = X.astype('float32')\n",
    "    y = y.astype('float32')\n",
    "    aging = aging.astype('float32')\n",
    "    return X.reshape((len(X),30,-1)), y, aging\n",
    "\n",
    "def get_all_metrics(true, predicted, score):\n",
    "    print(metrics.classification_report(true, predicted, digits=5))\n",
    "    print(metrics.confusion_matrix(true, predicted))\n",
    "    print('auc', metrics.roc_auc_score(true, score))\n",
    "    \n",
    "def decision(x_smart, aging, model):\n",
    "    # ret val: 0(unhealthy) 1(healthy)    \n",
    "    with torch.no_grad():\n",
    "        out1, out2 = model(x_smart, aging)\n",
    "#         print(out1, out2)\n",
    "        # print(F.pairwise_distance(out1, out2, p=2))\n",
    "#         print(out1.shape, out2.shape)\n",
    "        distance = F.pairwise_distance(out1, out2, p=2)\n",
    "#         print(distance.shape)\n",
    "#         distance = [F.pairwise_distance(x1, x2, p=2) for (x1,x2) in zip(out1, out2)]\n",
    "    return distance\n",
    "\n",
    "def computeScore(distance, limit):\n",
    "    if distance>1:\n",
    "        return 0.01\n",
    "    elif distance<limit:\n",
    "        return float(1-distance/limit*0.5)\n",
    "    else: \n",
    "        return float(1-(0.5+(distance-limit)/(1-limit)*0.5))\n",
    "    \n",
    "import pandas as pd    \n",
    "def saveExcel(data, path):\n",
    "    data_df = pd.DataFrame(data) \n",
    "    writer = pd.ExcelWriter(path)\n",
    "    data_df.to_excel(writer,'page_1') \n",
    "    writer.save()\n",
    "    pass\n"
   ]
  },
  {
   "cell_type": "code",
   "execution_count": 4,
   "id": "6fbb6bd3-63a0-4981-afa8-2f42ee00f878",
   "metadata": {},
   "outputs": [
    {
     "name": "stdout",
     "output_type": "stream",
     "text": [
      "cuda\n",
      "(9652, 30, 11)\n",
      "------------------ Pnet ------------------\n"
     ]
    },
    {
     "name": "stderr",
     "output_type": "stream",
     "text": [
      "No artists with labels found to put in legend.  Note that artists whose label start with an underscore are ignored when legend() is called with no argument.\n"
     ]
    },
    {
     "name": "stdout",
     "output_type": "stream",
     "text": [
      "              precision    recall  f1-score   support\n",
      "\n",
      "         0.0    0.82763   0.82677   0.82720      4826\n",
      "         1.0    0.82695   0.82781   0.82738      4826\n",
      "\n",
      "    accuracy                        0.82729      9652\n",
      "   macro avg    0.82729   0.82729   0.82729      9652\n",
      "weighted avg    0.82729   0.82729   0.82729      9652\n",
      "\n",
      "[[3990  836]\n",
      " [ 831 3995]]\n",
      "auc 0.896548649745499\n",
      "0.896548649745499\n"
     ]
    },
    {
     "data": {
      "image/png": "[encoded data removed]",
      "text/plain": [
       "<Figure size 640x480 with 1 Axes>"
      ]
     },
     "metadata": {},
     "output_type": "display_data"
    }
   ],
   "source": [
    "device = torch.device('cuda' if torch.cuda.is_available() else 'cpu')\n",
    "print(device)\n",
    "\n",
    "input_size_smart = 330\n",
    "hidden_size_smart = 128\n",
    "\n",
    "output_size_smart = 48\n",
    "input_size_aging = 5\n",
    "hidden_size_aging = 32\n",
    "output_size_aging = 48\n",
    "output_size_model = 64\n",
    "num_layers_smart = 3\n",
    "num_layers_aging = 3\n",
    "pnet = PSiameseNetwork(\n",
    "    input_size_smart=input_size_smart, \n",
    "    input_size_aging=input_size_aging, \n",
    "    hidden_size_smart=hidden_size_smart, \n",
    "    hidden_size_aging=hidden_size_aging,\n",
    "    num_layers_smart=num_layers_smart, \n",
    "    num_layers_aging=num_layers_aging,\n",
    "    output_size_smart=output_size_smart, \n",
    "    output_size_aging=output_size_aging,\n",
    "    output_size_model=output_size_model\n",
    ")\n",
    "pnet.load_state_dict(torch.load('../trained_model/' + dit_str[model_type] + '/' + str(n_days_lookahead) + '_days_lookahead/pnet.pth'))\n",
    "\n",
    "X_smart_test, y_smart_test, aging = loadData()\n",
    "print(X_smart_test.shape)\n",
    "\n",
    "test_dataset_smart = DatasetUtil(X_smart_test, aging, y_smart_test)\n",
    "test_loader_smart = DataLoader(dataset=test_dataset_smart, batch_size=128, shuffle=False)\n",
    "\n",
    "print('------------------ Pnet ------------------')\n",
    "y_pred_list = []\n",
    "y_score_list = []\n",
    "y_true_list = []\n",
    "with torch.no_grad():\n",
    "    for i, (X, aging, y) in enumerate(test_loader_smart):\n",
    "        X = X.to(device)\n",
    "        y = y.to(device)\n",
    "        aging = aging.to(device)\n",
    "        distance = decision(X, aging, pnet)\n",
    "        \n",
    "        for j in range(0,len(distance)):\n",
    "            score = computeScore(distance[j], 0.51)\n",
    "            y_score_list.append(score)\n",
    "            y_pred_list.append(1 if distance[j]<=0.51 else 0)            \n",
    "            y_true_list.append(y[j].cpu().numpy()[0])\n",
    "            \n",
    "get_all_metrics(np.asarray(y_true_list), np.asarray(y_pred_list), np.asarray(y_score_list))\n",
    "# print(y_true_list)\n",
    "fpr_apsnet, tpr_apsnet, thersholds = roc_curve(np.asarray(y_true_list), np.asarray(y_score_list))\n",
    "roc_auc = auc(fpr_apsnet, tpr_apsnet)\n",
    "\n",
    "print(roc_auc)\n",
    "plt.plot(fpr_apsnet, tpr_apsnet)\n",
    "plt.xlim([-0.05, 1.05])  \n",
    "plt.ylim([-0.05, 1.05])\n",
    "plt.xlabel('FPR')\n",
    "plt.ylabel('TPR')\n",
    "plt.title('ROC Curve')\n",
    "plt.legend(loc=\"lower right\")\n",
    "plt.show()"
   ]
  },
  {
   "cell_type": "code",
   "execution_count": null,
   "id": "363ec455-dd05-4f58-89fb-bda4fa9a165d",
   "metadata": {},
   "outputs": [],
   "source": []
  }
 ],
 "metadata": {
  "kernelspec": {
   "display_name": "Python 3.10",
   "language": "python",
   "name": "py310"
  },
  "language_info": {
   "codemirror_mode": {
    "name": "ipython",
    "version": 3
   },
   "file_extension": ".py",
   "mimetype": "text/x-python",
   "name": "python",
   "nbconvert_exporter": "python",
   "pygments_lexer": "ipython3",
   "version": "3.10.4"
  }
 },
 "nbformat": 4,
 "nbformat_minor": 5
}
