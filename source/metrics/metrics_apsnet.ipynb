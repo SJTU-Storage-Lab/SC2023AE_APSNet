{
    "cells": [
        {
            "cell_type": "code",
            "execution_count": 7,
            "id": "55aef22c-8c26-4c1a-81e9-c7f5e621745d",
            "metadata": {},
            "outputs": [],
            "source": [
                "import torch\n",
                "import torch.nn as nn\n",
                "from torch.utils.data import Dataset, DataLoader\n",
                "import numpy as np\n",
                "import torch.nn.functional as F\n",
                "import matplotlib.pyplot as plt\n",
                "from sklearn import metrics\n",
                "import joblib\n",
                "import datetime\n",
                "from sklearn.metrics import roc_curve, auc\n",
                "import matplotlib.pyplot as plt\n",
                "import sys\n",
                "sys.path.append(\"..\")\n",
                "from utils.PNet import LSTM, NN, PSiameseNetwork, DatasetUtil, ContrastiveLoss \n",
                "from sklearn.ensemble import RandomForestClassifier as RFC\n",
                "import time\n",
                "from utils import model_and_dataset_selection\n",
                "\n",
                "n_days_lookahead, data_type, data_folder_name_dict, model_type, model_folder_name_dict = model_and_dataset_selection.metrics_select_offline()\n",
                "\n",
                "def loadData():\n",
                "\n",
                "    X = np.load('../../data/' + data_folder_name_dict[data_type] + '/' + str(n_days_lookahead) + '_days_lookahead/smart_test.npy',allow_pickle=True)\n",
                "    y = np.load('../../data/' + data_folder_name_dict[data_type] + '/' + str(n_days_lookahead) + '_days_lookahead/test_labels.npy', allow_pickle=True)\n",
                "    aging = np.load('../../data/aging.npy', allow_pickle=True)\n",
                "\n",
                "    X = X.astype('float32')\n",
                "    y = y.astype('float32')\n",
                "    aging = aging.astype('float32')\n",
                "\n",
                "    return X, y, aging\n",
                "\n",
                "\n",
                "def get_all_metrics(true, predicted, score):\n",
                "    confusion_matrix = metrics.confusion_matrix(true, predicted)\n",
                "    fpr_list, tpr_list, thersholds = roc_curve(true, score)\n",
                "    roc_auc = auc(fpr_list, tpr_list)\n",
                "    TP = confusion_matrix[0][0]\n",
                "    FN = confusion_matrix[0][1]\n",
                "    FP = confusion_matrix[1][0]\n",
                "    TN =  confusion_matrix[1][1]\n",
                "    precision_of_failed = TP / (TP + FP)\n",
                "    precision_of_healthy = TN / (TN + FN)\n",
                "    tpr = TP / (TP + FN)\n",
                "    fpr = FP / (TN + FP)\n",
                "    auc_score = roc_auc\n",
                "    f1_score = 2*precision_of_failed*tpr / (precision_of_failed+tpr)\n",
                "    print('precision of failed: ', precision_of_failed)\n",
                "    print('precision of healthy: ', precision_of_healthy)\n",
                "    print('tpr: ', tpr)\n",
                "    print('fpr: ', fpr)\n",
                "    print('auc: ', auc_score)\n",
                "    print('f1-score: ', f1_score)\n",
                "    print('roc curve: ')\n",
                "    plt.plot(fpr_list, tpr_list)\n",
                "    plt.xlim([-0.05, 1.05])  \n",
                "    plt.ylim([-0.05, 1.05])\n",
                "    plt.xlabel('FPR')\n",
                "    plt.ylabel('TPR')\n",
                "    plt.title('ROC Curve')\n",
                "    plt.legend(loc=\"lower right\")\n",
                "    plt.show()\n",
                "    \n",
                "def decision(x_smart, aging, model):\n",
                "    # ret val: 0(unhealthy) 1(healthy)    \n",
                "    with torch.no_grad():\n",
                "        out1, out2 = model(x_smart, aging)\n",
                "#         print(out1, out2)\n",
                "        # print(F.pairwise_distance(out1, out2, p=2))\n",
                "#         print(out1.shape, out2.shape)\n",
                "        distance = F.pairwise_distance(out1, out2, p=2)\n",
                "#         print(distance.shape)\n",
                "#         distance = [F.pairwise_distance(x1, x2, p=2) for (x1,x2) in zip(out1, out2)]\n",
                "    return distance\n",
                "\n",
                "def computeScore(distance, limit):\n",
                "    if distance>1:\n",
                "        return 0.01\n",
                "    elif distance<limit:\n",
                "        return float(1-distance/limit*0.5)\n",
                "    else: \n",
                "        # distance>=limit\n",
                "        return float(1-(0.5+(distance-limit)/(1-limit)*0.5))\n"
            ]
        },
        {
            "cell_type": "code",
            "execution_count": 8,
            "id": "2e841980-76c7-4861-a6ba-f3da583f5981",
            "metadata": {},
            "outputs": [
                {
                    "name": "stdout",
                    "output_type": "stream",
                    "text": [
                        "(67339, 30, 11)\n"
                    ]
                }
            ],
            "source": [
                "device = torch.device('cuda' if torch.cuda.is_available() else 'cpu')\n",
                "\n",
                "input_size_smart = 330\n",
                "hidden_size_smart = 128\n",
                "output_size_smart = 48\n",
                "input_size_aging = 5\n",
                "hidden_size_aging = 32\n",
                "output_size_aging = 48\n",
                "output_size_model = 64\n",
                "num_layers_smart = 3\n",
                "num_layers_aging = 3\n",
                "\n",
                "pnet = PSiameseNetwork(\n",
                "    input_size_smart=input_size_smart, \n",
                "    input_size_aging=input_size_aging, \n",
                "    hidden_size_smart=hidden_size_smart, \n",
                "    hidden_size_aging=hidden_size_aging,\n",
                "    num_layers_smart=num_layers_smart, \n",
                "    num_layers_aging=num_layers_aging,\n",
                "    output_size_smart=output_size_smart, \n",
                "    output_size_aging=output_size_aging,\n",
                "    output_size_model=output_size_model\n",
                ")\n",
                "pnet.load_state_dict(torch.load('../../trained_model/' + model_folder_name_dict[model_type] + '/' + str(n_days_lookahead) + '_days_lookahead/pnet.pth'))\n",
                "\n",
                "rf = RFC()\n",
                "rf.fit(\n",
                "    np.load('../../data/' + data_folder_name_dict[data_type] + '/' + str(n_days_lookahead) + '_days_lookahead/smart_train_pnet.npy').reshape((-1, 330)).astype('float32'),\n",
                "    np.load('../../data/' + data_folder_name_dict[data_type] + '/' + str(n_days_lookahead) + '_days_lookahead/train_labels_pnet.npy').astype('float32')\n",
                ")\n",
                "\n",
                "X_smart_test, y_smart_test, aging = loadData()\n",
                "print(X_smart_test.shape)\n",
                "\n",
                "test_dataset_smart = DatasetUtil(X_smart_test, aging, y_smart_test)\n",
                "test_loader_smart = DataLoader(dataset=test_dataset_smart, batch_size=128, shuffle=False)\n",
                "    \n"
            ]
        },
        {
            "cell_type": "code",
            "execution_count": 9,
            "id": "857948da-2f90-4fd8-aa8d-d54ae8b76b56",
            "metadata": {},
            "outputs": [
                {
                    "name": "stdout",
                    "output_type": "stream",
                    "text": [
                        "------------------ APSNet--------------\n"
                    ]
                },
                {
                    "name": "stderr",
                    "output_type": "stream",
                    "text": [
                        "/usr/local/anaconda3/envs/gan-ada/lib/python3.7/site-packages/ipykernel_launcher.py:47: FutureWarning: The input object of type 'Tensor' is an array-like implementing one of the corresponding protocols (`__array__`, `__array_interface__` or `__array_struct__`); but not a sequence (or 0-D). In the future, this object will be coerced as if it was first converted using `np.array(obj)`. To retain the old behaviour, you have to either modify the type 'Tensor', or assign to an empty array created with `np.empty(correct_shape, dtype=object)`.\n",
                        "/usr/local/anaconda3/envs/gan-ada/lib/python3.7/site-packages/ipykernel_launcher.py:47: VisibleDeprecationWarning: Creating an ndarray from ragged nested sequences (which is a list-or-tuple of lists-or-tuples-or ndarrays with different lengths or shapes) is deprecated. If you meant to do this, you must specify 'dtype=object' when creating the ndarray.\n",
                        "No artists with labels found to put in legend.  Note that artists whose label start with an underscore are ignored when legend() is called with no argument.\n"
                    ]
                },
                {
                    "name": "stdout",
                    "output_type": "stream",
                    "text": [
                        "precision of failed:  0.8958252265273222\n",
                        "precision of healthy:  0.9540830968400242\n",
                        "tpr:  0.9572319572319572\n",
                        "fpr:  0.11131901749383706\n",
                        "auc:  0.9619914101469834\n",
                        "f1-score:  0.9255111417413276\n",
                        "roc curve: \n"
                    ]
                },
                {
                    "data": {
                        "image/png": "[encoded data removed]",
                        "text/plain": [
                            "<Figure size 432x288 with 1 Axes>"
                        ]
                    },
                    "metadata": {
                        "needs_background": "light"
                    },
                    "output_type": "display_data"
                }
            ],
            "source": [
                "print('------------------ APSNet--------------')\n",
                "best_upper_limit_dit = {5:0.56,  7:0.53,    15:0.58,    30:0.52,  45:0.45,  60:0.5,   90:0.47, 120:0.47}\n",
                "best_lower_limit_dit = {5:0.05,  7:0.05,    15:0.05,    30:0.05,  45:0.05,  60:0.05,  90:0.05, 120:0.05}\n",
                "\n",
                "if model_folder_name_dict[model_type]=='mc1':\n",
                "    best_upper_limit_dit = {5:0.98,7:1,   15:1,   30:0.8,  45:0.8,  60:0.8,  90:0.90,120:0.90}\n",
                "    best_lower_limit_dit = {5:0.2, 7:0.25,15:0.23,30:0.35, 45:0.24, 60:0.25, 90:0.20,120:0.3}\n",
                "elif model_folder_name_dict[model_type]=='mc2':\n",
                "    best_upper_limit_dit = {5:2,    7:1,   15:1,   30:1,  45:1,  60:1,  90:5,120:5}\n",
                "    best_lower_limit_dit = {5:0.25, 7:0.15,15:0.2, 30:0.1, 45:0.1, 60:0.1, 90:0.1,120:0.1}\n",
                "elif model_folder_name_dict[model_type]=='mc1_mc2':\n",
                "    if data_folder_name_dict[data_type]=='mc1':\n",
                "        best_upper_limit_dit = {5:1.2,  7:1,   15:1,   30:0.8,  45:0.8,  60:5,  90:0.90,120:0.90}\n",
                "        best_lower_limit_dit = {5:0.25, 7:0.2,15:0.23,30:0.2, 45:0.3, 60:0.25, 90:0.20,120:0.25}\n",
                "    elif data_folder_name_dict[data_type]=='mc2':\n",
                "        best_upper_limit_dit = {5:1.1,  7:1.1,   15:1,   30:1,  45:0.6,  60:0.9,  90:0.80,120:0.9}\n",
                "        best_lower_limit_dit = {5:0.3, 7:0.2,15:0.23,   30:0.3, 45:0.2, 60:0.15, 90:0.10,120:0.19}\n",
                "    \n",
                "upper_limit = best_upper_limit_dit[n_days_lookahead]\n",
                "lower_limit = best_lower_limit_dit[n_days_lookahead]\n",
                "\n",
                "# 1: 0.70, 0: 0.42\n",
                "y_pred_union_list = []\n",
                "y_pred_rf_list = []\n",
                "y_score_list = []\n",
                "y_true_list = []\n",
                "with torch.no_grad():\n",
                "    for i, (X, aging, y) in enumerate(test_loader_smart):\n",
                "        X = X.to(device)\n",
                "        y = y.to(device)\n",
                "        aging = aging.to(device)\n",
                "        y_pred_rf = rf.predict((X.cpu().numpy()).reshape((-1,330)))\n",
                "        distance = decision(X, aging, pnet)\n",
                "        \n",
                "        for j in range(0,len(distance)):\n",
                "            if y_pred_rf[j] == 1:\n",
                "                score = computeScore(distance[j], upper_limit)\n",
                "                y_score_list.append(score)\n",
                "                y_pred_union_list.append(1 if distance[j]<=upper_limit else 0)\n",
                "            else:\n",
                "                score = computeScore(distance[j], lower_limit)\n",
                "                y_score_list.append(score)\n",
                "                y_pred_union_list.append(1 if distance[j]<=lower_limit else 0)                \n",
                "            y_true_list.append(y[j].cpu())\n",
                "            y_pred_rf_list.append(y_pred_rf[j])\n",
                "\n",
                "get_all_metrics(np.asarray(y_true_list).astype('int'), np.asarray(y_pred_union_list), np.asarray(y_score_list))"
            ]
        },
        {
            "cell_type": "code",
            "execution_count": null,
            "id": "a4b0a3c3-bb4b-40b4-a20d-7764b76e1274",
            "metadata": {},
            "outputs": [],
            "source": []
        },
        {
            "cell_type": "code",
            "execution_count": null,
            "id": "f80d75cd-bea7-43d9-be15-30da8f202932",
            "metadata": {},
            "outputs": [],
            "source": []
        }
    ],
    "metadata": {
        "kernelspec": {
            "display_name": "Python(gan-ada)",
            "language": "python",
            "name": "gan-ada"
        },
        "language_info": {
            "codemirror_mode": {
                "name": "ipython",
                "version": 3
            },
            "file_extension": ".py",
            "mimetype": "text/x-python",
            "name": "python",
            "nbconvert_exporter": "python",
            "pygments_lexer": "ipython3",
            "version": "3.7.13"
        }
    },
    "nbformat": 4,
    "nbformat_minor": 5
}